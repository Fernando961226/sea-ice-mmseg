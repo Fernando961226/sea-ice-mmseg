{
 "cells": [
  {
   "cell_type": "code",
   "execution_count": null,
   "metadata": {},
   "outputs": [],
   "source": [
    "import os\n",
    "import random\n",
    "\n",
    "# Path to the folder containing the nc files\n",
    "folder_path = \"/home/m32patel/projects/def-dclausi/AI4arctic/dataset/ai4arctic_raw_train_v3\"\n",
    "\n",
    "# List all the nc files in the folder\n",
    "nc_files = [file for file in os.listdir(folder_path) if file.endswith(\".nc\")]\n",
    "\n",
    "# Define different splits\n",
    "splits = [(0.8, 0.2), (0.7, 0.3), (0.5, 0.5)]\n",
    "\n",
    "# Iterate over splits\n",
    "for split_index, (train_ratio, test_ratio) in enumerate(splits, start=1):\n",
    "    # Calculate the number of files for train and test sets\n",
    "    num_train_files = int(len(nc_files) * train_ratio)\n",
    "    num_test_files = int(len(nc_files) * test_ratio)\n",
    "\n",
    "    # Randomly shuffle the list of nc files\n",
    "    random.shuffle(nc_files)\n",
    "\n",
    "    # Divide files into train and test sets\n",
    "    train_files = nc_files[:num_train_files]\n",
    "    test_files = nc_files[num_train_files:num_train_files + num_test_files]\n",
    "\n",
    "    # Write filenames to train.txt\n",
    "    with open(f\"pretrain_{split_index}_{int(train_ratio*100)}.txt\", \"w\") as train_txt:\n",
    "        for file in train_files:\n",
    "            train_txt.write(file + \"\\n\")\n",
    "\n",
    "    # Write filenames to test.txt\n",
    "    with open(f\"finetune_{split_index}_{int(test_ratio*100)}.txt\", \"w\") as test_txt:\n",
    "        for file in test_files:\n",
    "            test_txt.write(file + \"\\n\")\n",
    "\n",
    "    print(f\"train_{split_index}_{int(train_ratio*100)}.txt and test_{split_index}_{int(test_ratio*100)}.txt files created successfully.\")"
   ]
  },
  {
   "cell_type": "code",
   "execution_count": null,
   "metadata": {},
   "outputs": [],
   "source": []
  }
 ],
 "metadata": {
  "language_info": {
   "name": "python"
  }
 },
 "nbformat": 4,
 "nbformat_minor": 2
}
